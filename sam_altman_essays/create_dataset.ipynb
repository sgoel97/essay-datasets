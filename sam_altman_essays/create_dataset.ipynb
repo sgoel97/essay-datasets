{
 "cells": [
  {
   "cell_type": "markdown",
   "metadata": {},
   "source": [
    "# Create Sam Altman Essays Dataset\n"
   ]
  },
  {
   "cell_type": "code",
   "execution_count": 1,
   "metadata": {},
   "outputs": [],
   "source": [
    "import re\n",
    "import requests\n",
    "import pandas as pd\n",
    "from pathlib import Path\n",
    "from bs4 import BeautifulSoup"
   ]
  },
  {
   "cell_type": "code",
   "execution_count": 2,
   "metadata": {},
   "outputs": [],
   "source": [
    "base_url = \"https://blog.samaltman.com/\""
   ]
  },
  {
   "cell_type": "code",
   "execution_count": 3,
   "metadata": {},
   "outputs": [],
   "source": [
    "Path(\"./dataset\").mkdir(parents=True, exist_ok=True)"
   ]
  },
  {
   "cell_type": "markdown",
   "metadata": {},
   "source": [
    "## Extract Article URLs\n"
   ]
  },
  {
   "cell_type": "code",
   "execution_count": 4,
   "metadata": {},
   "outputs": [],
   "source": [
    "urls = [f\"{base_url}?page={i}\" for i in range(25)]"
   ]
  },
  {
   "cell_type": "code",
   "execution_count": 5,
   "metadata": {},
   "outputs": [],
   "source": [
    "articles = []\n",
    "for url in urls:\n",
    "    response = requests.get(url)\n",
    "    response.raise_for_status()\n",
    "    soup = BeautifulSoup(response.text, \"html.parser\")\n",
    "    articles_div = soup.find_all(\"article\", class_=\"post\")\n",
    "    article_urls = list(map(lambda a: a.find_all(\"a\")[0][\"href\"], articles_div))\n",
    "    articles.extend(article_urls)"
   ]
  },
  {
   "cell_type": "markdown",
   "metadata": {},
   "source": [
    "## Process Articles\n"
   ]
  },
  {
   "cell_type": "code",
   "execution_count": 6,
   "metadata": {},
   "outputs": [],
   "source": [
    "article_dates = []\n",
    "article_titles = []\n",
    "article_texts = []\n",
    "\n",
    "for article in articles:\n",
    "    response = requests.get(article)\n",
    "    response.raise_for_status()\n",
    "    soup = BeautifulSoup(response.text, \"html.parser\")\n",
    "    articles_div = soup.find_all(\"article\", class_=\"post\")[0]\n",
    "\n",
    "    # Extract the date of the article\n",
    "    post_date = soup.find_all(\"span\", class_=\"posthaven-formatted-date\")[0]\n",
    "    post_date = post_date.attrs[\"data-unix-time\"]\n",
    "    post_date = pd.to_datetime(int(post_date) * 1e9)\n",
    "    article_dates.append(post_date)\n",
    "\n",
    "    # Extract the title of the article\n",
    "    post_title = articles_div.find_all(\"a\")[0].text\n",
    "    article_titles.append(post_title)\n",
    "\n",
    "    # Extract the text from the article\n",
    "    article_text = articles_div.find_all(\"div\", class_=\"posthaven-post-body\")[0]\n",
    "    article_text = article_text.find_all([\"p\", \"li\", \"div\"])\n",
    "\n",
    "    for i in range(len(article_text)):\n",
    "        for br in article_text[i].find_all(\"br\"):\n",
    "            br.replace_with(\"<br />\")\n",
    "\n",
    "    # Extract the text from each HTML element in the article\n",
    "    article_text = list(\n",
    "        map(\n",
    "            lambda p: (\n",
    "                p.text if \"posthaven-file\" not in p.attrs.get(\"class\", []) else \"\"\n",
    "            ),\n",
    "            article_text,\n",
    "        )\n",
    "    )\n",
    "\n",
    "    article_text = [\n",
    "        a.replace(\"\\n\", \" \")\n",
    "        .replace(\"<br />\", \"\\n\")\n",
    "        .replace(\"\\xa0\", \" \")\n",
    "        .replace(\"  \", \" \")\n",
    "        for a in article_text\n",
    "    ]\n",
    "    article_text = \"\\n\\n\".join(article_text)\n",
    "    article_text = re.sub(r\"(\\s*\\n\\s*){2,}\", \"\\n\\n\", article_text)\n",
    "    article_texts.append(article_text)"
   ]
  },
  {
   "cell_type": "markdown",
   "metadata": {},
   "source": [
    "## Save Dataset\n"
   ]
  },
  {
   "cell_type": "code",
   "execution_count": 7,
   "metadata": {},
   "outputs": [],
   "source": [
    "# Convert data to pandas dataframe\n",
    "\n",
    "df = pd.DataFrame(\n",
    "    {\"title\": article_titles, \"text\": article_texts, \"date\": article_dates}\n",
    ")"
   ]
  },
  {
   "cell_type": "code",
   "execution_count": 8,
   "metadata": {},
   "outputs": [],
   "source": [
    "# Rename and reorder columns\n",
    "\n",
    "df.index.name = \"id\"\n",
    "df = df[[\"title\", \"date\", \"text\"]]"
   ]
  },
  {
   "cell_type": "code",
   "execution_count": 9,
   "metadata": {},
   "outputs": [],
   "source": [
    "# Remove duplicates\n",
    "\n",
    "df = df.drop_duplicates(subset=[\"text\"], keep=\"first\")"
   ]
  },
  {
   "cell_type": "code",
   "execution_count": 10,
   "metadata": {},
   "outputs": [],
   "source": [
    "# Save dataset\n",
    "\n",
    "df.to_csv(\"./dataset/sam_altman_essays.csv\")"
   ]
  }
 ],
 "metadata": {
  "kernelspec": {
   "display_name": "base",
   "language": "python",
   "name": "python3"
  },
  "language_info": {
   "codemirror_mode": {
    "name": "ipython",
    "version": 3
   },
   "file_extension": ".py",
   "mimetype": "text/x-python",
   "name": "python",
   "nbconvert_exporter": "python",
   "pygments_lexer": "ipython3",
   "version": "3.11.5"
  }
 },
 "nbformat": 4,
 "nbformat_minor": 2
}
